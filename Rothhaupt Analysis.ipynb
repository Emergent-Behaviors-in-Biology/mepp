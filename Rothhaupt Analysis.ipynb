{
 "cells": [
  {
   "cell_type": "markdown",
   "metadata": {},
   "source": [
    "This notebook contains the data analysis for arXiv:1901.09673, \"The Minimum Environmental Perturbation Principle.\" The data comes from K. Rothhaupt, <i>Nature</i> <b>333</b>:660 (1988), and was converted to the accompanying Excel file 'rothhaupt.xlsx' using the WebPlotDigitizer (https://automeris.io/WebPlotDigitizer/).\n",
    "\n",
    "The notebook requires no additional dependencies beyond the packages included with the default Anaconda distribution."
   ]
  },
  {
   "cell_type": "code",
   "execution_count": 1,
   "metadata": {
    "ExecuteTime": {
     "end_time": "2019-04-12T14:21:44.824696Z",
     "start_time": "2019-04-12T14:21:42.903200Z"
    },
    "collapsed": true
   },
   "outputs": [],
   "source": [
    "import pandas as pd\n",
    "import numpy as np\n",
    "import seaborn as sns\n",
    "import matplotlib.pyplot as plt\n",
    "from matplotlib.backends import backend_pdf as bpdf\n",
    "import matplotlib\n",
    "import pickle\n",
    "from scipy.optimize import brentq,curve_fit,least_squares\n",
    "%matplotlib inline"
   ]
  },
  {
   "cell_type": "markdown",
   "metadata": {},
   "source": [
    "# Fit the data"
   ]
  },
  {
   "cell_type": "code",
   "execution_count": 12,
   "metadata": {
    "ExecuteTime": {
     "end_time": "2019-04-12T14:40:58.655652Z",
     "start_time": "2019-04-12T14:40:54.703908Z"
    }
   },
   "outputs": [
    {
     "data": {
      "image/png": "[encoded data removed]",
      "text/plain": [
       "<matplotlib.figure.Figure at 0x10dbc0668>"
      ]
     },
     "metadata": {},
     "output_type": "display_data"
    }
   ],
   "source": [
    "#Load growth rates, extracted from Figure 1\n",
    "growth_rates = pd.read_excel('Rothhaupt.xlsx',header=[0,1])\n",
    "\n",
    "#Load maximal clearance rates, copied from Table 1\n",
    "conv = 24 #Convert to ul/animal/day\n",
    "cRM = 10.5 * conv\n",
    "cRC = 2.04 * conv\n",
    "cCM = 8.78 * conv\n",
    "cCC = 17.78 * conv\n",
    "\n",
    "#Define monoraphidiumd curve for fitting\n",
    "def monod(R,ewc,eK,gmax):\n",
    "    return ewc*R/(1+(ewc*R/eK))-eK+gmax\n",
    "\n",
    "#Make residuals, using measured clearance rates\n",
    "def res(params):\n",
    "    Delta = []\n",
    "    \n",
    "    eR,eC,KR,KC,gmax = params\n",
    "    e = {'B. calyciflorus on Chlamydomonas':eC,\n",
    "         'B. calyciflorus on Monoraphidium':eC,\n",
    "         'B. rubens on Chlamydomonas':eR,\n",
    "         'B. rubens on Monoraphidium':eR}\n",
    "    K = {'B. calyciflorus on Chlamydomonas':KC,\n",
    "         'B. calyciflorus on Monoraphidium':KC,\n",
    "         'B. rubens on Chlamydomonas':KR,\n",
    "         'B. rubens on Monoraphidium':KR}\n",
    "    c = {'B. calyciflorus on Chlamydomonas':cCC,\n",
    "         'B. calyciflorus on Monoraphidium':cCM,\n",
    "         'B. rubens on Chlamydomonas':cRC,\n",
    "         'B. rubens on Monoraphidium':cRM}\n",
    "    \n",
    "    for name in growth_rates.keys().levels[0]:\n",
    "        data = growth_rates[name].dropna()\n",
    "        if name == 'B. rubens on Chlamydomonas':\n",
    "            data=data.iloc[:9]\n",
    "        Delta=Delta+list(data['Y']-monod(data['X'],e[name]*c[name],e[name]*K[name],gmax))\n",
    "        \n",
    "    return np.asarray(Delta)\n",
    "\n",
    "#Initial guesses for nonlinear least squares\n",
    "params0 = 1,0.26,1.5,1.5,0.78\n",
    "#Perform nonlinear least squares\n",
    "out = least_squares(res,params0)\n",
    "eR,eC,KR,KC,gmax = out.x\n",
    "e = {'B. calyciflorus on Chlamydomonas':eC,\n",
    "         'B. calyciflorus on Monoraphidium':eC,\n",
    "         'B. rubens on Chlamydomonas':eR,\n",
    "         'B. rubens on Monoraphidium':eR}\n",
    "K = {'B. calyciflorus on Chlamydomonas':KC,\n",
    "         'B. calyciflorus on Monoraphidium':KC,\n",
    "         'B. rubens on Chlamydomonas':KR,\n",
    "         'B. rubens on Monoraphidium':KR}\n",
    "c = {'B. calyciflorus on Chlamydomonas':cCC,\n",
    "         'B. calyciflorus on Monoraphidium':cCM,\n",
    "         'B. rubens on Chlamydomonas':cRC,\n",
    "         'B. rubens on Monoraphidium':cRM}\n",
    "\n",
    "R = np.linspace(0,10,100)\n",
    "k=0\n",
    "fig,ax=plt.subplots(2,2,sharex=True,sharey=True)\n",
    "fig.subplots_adjust(hspace=0.3)\n",
    "ax = ax.reshape(-1)\n",
    "for name in growth_rates.keys().levels[0]:\n",
    "    data = growth_rates[name].dropna()\n",
    "    ax[k].scatter(data['X'],data['Y'],c='k',s=5,label='Data')\n",
    "    ax[k].plot(R,monod(R,e[name]*c[name],e[name]*K[name],gmax),'k',label='Model')\n",
    "    ax[k].set_title(name,fontsize=10)\n",
    "    k+=1\n",
    "ax[0].legend()\n",
    "fig.text(0.04, 0.5, r'Per-capita growth rate (d$^{-1}$)', ha='center', va='center', rotation='vertical')\n",
    "fig.text(0.5, 0.04, 'Resource supply concentration (mgC/l)', ha='center', va='center')\n",
    "pdf = bpdf.PdfPages('GrowthCurves.pdf')\n",
    "pdf.savefig(fig)\n",
    "pdf.close()\n",
    "plt.show()"
   ]
  },
  {
   "cell_type": "code",
   "execution_count": 13,
   "metadata": {
    "ExecuteTime": {
     "end_time": "2019-04-12T14:41:01.805941Z",
     "start_time": "2019-04-12T14:41:01.798814Z"
    }
   },
   "outputs": [
    {
     "data": {
      "text/plain": [
       "{'B. calyciflorus on Chlamydomonas': 426.72,\n",
       " 'B. calyciflorus on Monoraphidium': 210.71999999999997,\n",
       " 'B. rubens on Chlamydomonas': 48.96,\n",
       " 'B. rubens on Monoraphidium': 252.0}"
      ]
     },
     "execution_count": 13,
     "metadata": {},
     "output_type": "execute_result"
    }
   ],
   "source": [
    "c"
   ]
  },
  {
   "cell_type": "code",
   "execution_count": 14,
   "metadata": {
    "ExecuteTime": {
     "end_time": "2019-04-12T14:41:26.511012Z",
     "start_time": "2019-04-12T14:41:26.502726Z"
    }
   },
   "outputs": [
    {
     "data": {
      "text/plain": [
       "{'B. calyciflorus on Chlamydomonas': 0.013825020347481475,\n",
       " 'B. calyciflorus on Monoraphidium': 0.013825020347481475,\n",
       " 'B. rubens on Chlamydomonas': 0.07283783741869794,\n",
       " 'B. rubens on Monoraphidium': 0.07283783741869794}"
      ]
     },
     "execution_count": 14,
     "metadata": {},
     "output_type": "execute_result"
    }
   ],
   "source": [
    "e"
   ]
  },
  {
   "cell_type": "code",
   "execution_count": 15,
   "metadata": {
    "ExecuteTime": {
     "end_time": "2019-04-12T14:41:27.412388Z",
     "start_time": "2019-04-12T14:41:27.405243Z"
    }
   },
   "outputs": [
    {
     "data": {
      "text/plain": [
       "{'B. calyciflorus on Chlamydomonas': 92.71818657176759,\n",
       " 'B. calyciflorus on Monoraphidium': 92.71818657176759,\n",
       " 'B. rubens on Chlamydomonas': 20.172973576946774,\n",
       " 'B. rubens on Monoraphidium': 20.172973576946774}"
      ]
     },
     "execution_count": 15,
     "metadata": {},
     "output_type": "execute_result"
    }
   ],
   "source": [
    "K"
   ]
  },
  {
   "cell_type": "code",
   "execution_count": 16,
   "metadata": {
    "ExecuteTime": {
     "end_time": "2019-04-12T14:41:33.013770Z",
     "start_time": "2019-04-12T14:41:33.005336Z"
    }
   },
   "outputs": [
    {
     "data": {
      "text/plain": [
       "0.7793966452301934"
      ]
     },
     "execution_count": 16,
     "metadata": {},
     "output_type": "execute_result"
    }
   ],
   "source": [
    "gmax"
   ]
  },
  {
   "cell_type": "markdown",
   "metadata": {},
   "source": [
    "# Compute environmental perturbations"
   ]
  },
  {
   "cell_type": "code",
   "execution_count": 22,
   "metadata": {
    "ExecuteTime": {
     "end_time": "2019-04-12T14:53:17.396073Z",
     "start_time": "2019-04-12T14:53:17.148874Z"
    }
   },
   "outputs": [
    {
     "name": "stdout",
     "output_type": "stream",
     "text": [
      "{'B. calyciflorus on Chlamydomonas': 0.26342172200827296, 'B. calyciflorus on Monoraphidium': 0.5334439883037753, 'B. rubens on Chlamydomonas': 0.6328817820047813, 'B. rubens on Monoraphidium': 0.12295988907521445}\n",
      "[0.07939835884687717, 0.224213758528207]\n",
      "{'B. calyciflorus on Chlamydomonas': 0.6282575655197558, 'B. calyciflorus on Monoraphidium': 1.2722573479431956, 'B. rubens on Chlamydomonas': 1.4259313517311103, 'B. rubens on Monoraphidium': 0.27703809119347267}\n",
      "[0.1714231019205567, 0.5436065624341265]\n"
     ]
    }
   ],
   "source": [
    "d_min_0 = []\n",
    "d_min_1 = []\n",
    "d_coex = []\n",
    "intercepts0 = {}\n",
    "slopes0 = {}\n",
    "R = np.linspace(1e-4,1.5,1000)\n",
    "\n",
    "def d_ext(R0,R):\n",
    "    return ((R0[0]*np.log(R0[0]/R[0]) - (R0[0] - R[0]))+\n",
    "            (R0[1]*np.log(R0[1]/R[1]) - (R0[1] - R[1])))\n",
    "\n",
    "#Load list of competition outcomes:\n",
    "#0: B. Rubens wins\n",
    "#1: B. Caly wins\n",
    "#2: Coexistence\n",
    "win_list = np.asarray([1,2,0,0,0,0,1,2,2,2,0,0])\n",
    "\n",
    "for D in [0.2,0.45]:\n",
    "    #Find Rstar for each species-resource pair\n",
    "    Rstar = {}\n",
    "    for name in growth_rates.keys().levels[0]:\n",
    "        def deltag(R):\n",
    "            return monod(R,e[name]*c[name],e[name]*K[name],gmax)-D\n",
    "        Rstar[name] = brentq(deltag,0,10)\n",
    "    print(Rstar)\n",
    "    \n",
    "    #Find intersection of ZNGI's\n",
    "    intercepts = [Rstar['B. rubens on Chlamydomonas'],Rstar['B. calyciflorus on Chlamydomonas']]\n",
    "    slopes = [Rstar['B. rubens on Chlamydomonas']/Rstar['B. rubens on Monoraphidium'],\n",
    "              Rstar['B. calyciflorus on Chlamydomonas']/Rstar['B. calyciflorus on Monoraphidium']]\n",
    "    Rcoex = [(intercepts[0]-intercepts[1])/(slopes[0]-slopes[1]),\n",
    "             (slopes[0]*intercepts[1]-slopes[1]*intercepts[0])/(slopes[0]-slopes[1])]\n",
    "    print(Rcoex)\n",
    "\n",
    "    #Save ZNGI's\n",
    "    Rvec0 = np.vstack((R,intercepts[0]-slopes[0]*R)).T\n",
    "    Rvec1 = np.vstack((R,intercepts[1]-slopes[1]*R)).T\n",
    "    Rvec0 = Rvec0[Rvec0[:,1]>1e-4,:]\n",
    "    Rvec1 = Rvec1[Rvec1[:,1]>1e-4,:]\n",
    "\n",
    "    #Load supply vectors\n",
    "    if D == 0.2:\n",
    "        R0_list = pd.read_excel('R0list.xlsx',header=[0,1])['D20'].values\n",
    "    elif D == 0.45:\n",
    "        R0_list = pd.read_excel('R0list.xlsx',header=[0,1])['D45'].values\n",
    "\n",
    "    for R0 in R0_list:\n",
    "        d_min_0.append(np.min(np.asarray([d_ext(R0,Rvec0[k,:]) for k in range (len(Rvec0))])))\n",
    "        d_min_1.append(np.min(np.asarray([d_ext(R0,Rvec1[k,:]) for k in range (len(Rvec1))])))\n",
    "        d_coex.append(d_ext(R0,Rcoex))\n",
    "        \n",
    "dlist = np.vstack((d_min_0,d_min_1,d_coex)).T"
   ]
  },
  {
   "cell_type": "markdown",
   "metadata": {},
   "source": [
    "# Make contour plot"
   ]
  },
  {
   "cell_type": "code",
   "execution_count": 23,
   "metadata": {
    "ExecuteTime": {
     "end_time": "2019-04-12T14:53:26.609882Z",
     "start_time": "2019-04-12T14:53:24.520358Z"
    }
   },
   "outputs": [
    {
     "data": {
      "image/png": "[encoded data removed]",
      "text/plain": [
       "<matplotlib.figure.Figure at 0x10dd46780>"
      ]
     },
     "metadata": {},
     "output_type": "display_data"
    }
   ],
   "source": [
    "#Plot ZNGI's\n",
    "colors = sns.color_palette()\n",
    "fig,ax=plt.subplots(figsize=(3,3))\n",
    "fig.subplots_adjust(left=0.2,bottom=0.19)\n",
    "ax.axis('square')\n",
    "ax.plot(Rvec0[:,0],Rvec0[:,1],color=colors[0],lw=3)\n",
    "ax.plot(Rvec1[:,0],Rvec1[:,1],color=colors[1],lw=3)\n",
    "    \n",
    "#Make contours\n",
    "m=3\n",
    "delta = 0.0025\n",
    "Rmax = 1.5\n",
    "R1 = np.arange(0, Rmax, delta)\n",
    "R2 = np.arange(0, Rmax, delta)\n",
    "R1 = R1[1:]\n",
    "R2 = R2[1:]\n",
    "R1_mat, R2_mat = np.meshgrid(R1,R2)\n",
    "if D == 0.2:\n",
    "    d_after = dlist[m,win_list[m]]\n",
    "    d_before = d_min_1[m]\n",
    "else:\n",
    "    d_after = dlist[m+6,win_list[m+6]]\n",
    "    d_before = d_min_1[m+6]\n",
    "Delta = d_after - d_before\n",
    "d_mat = np.asarray([[d_ext(R0_list[m],[R1_mat[j,k],R2_mat[j,k]]) for k in range(len(R1_mat.T))] for j in range(len(R1_mat))])\n",
    "CS = ax.contour(R1_mat, R2_mat, d_mat, np.arange(-1,5)*Delta+d_before,alpha=1,colors='k',linestyles='dotted')\n",
    "R_before = Rvec1[np.argmin(np.asarray([d_ext(R0_list[m],Rvec1[k,:]) for k in range (len(Rvec1))]))]\n",
    "ax.plot([R_before[0]],[R_before[1]],'sk',ms=7,label='Before invasion')\n",
    "ax.plot([Rcoex[0]],[Rcoex[1]],'ok',ms=7,label='After invasion')\n",
    "ax.legend()\n",
    "ax.set_xlim((0,1))\n",
    "ax.set_ylim((0,1))\n",
    "ax.set_xlabel('Monoraphidium (mgC/l)',fontsize=12)\n",
    "ax.set_ylabel('Chlamydomonas (mgC/l)',fontsize=12)\n",
    "pdf = bpdf.PdfPages('Roth_example.pdf')\n",
    "pdf.savefig(fig)\n",
    "pdf.close()\n",
    "plt.show()"
   ]
  },
  {
   "cell_type": "markdown",
   "metadata": {},
   "source": [
    "# Make bar plot"
   ]
  },
  {
   "cell_type": "code",
   "execution_count": 24,
   "metadata": {
    "ExecuteTime": {
     "end_time": "2019-04-12T14:53:30.951909Z",
     "start_time": "2019-04-12T14:53:30.631524Z"
    }
   },
   "outputs": [
    {
     "data": {
      "image/png": "[encoded data removed]",
      "text/plain": [
       "<matplotlib.figure.Figure at 0x10dd52f28>"
      ]
     },
     "metadata": {},
     "output_type": "display_data"
    }
   ],
   "source": [
    "fig,ax=plt.subplots(figsize=(3,3))\n",
    "fig.subplots_adjust(left=0.2,bottom=0.19)\n",
    "d_before = np.asarray(d_min_1)\n",
    "d_after = dlist[np.arange(len(dlist),dtype=int),win_list]\n",
    "ax.bar(range(1,len(d_after)+1),d_after-d_before,color='k')\n",
    "ax.plot([1,13],[0,0],'k')\n",
    "ax.set_xticks(range(1,len(d_after)+1))\n",
    "ax.set_ylabel(r'Change in $d(\\mathbf{R}^0,\\mathbf{R}^*)$',fontsize=12)\n",
    "ax.set_xlabel('Experimental condition',fontsize=12)\n",
    "ax.set_ylim((-2.5,16))\n",
    "pdf = bpdf.PdfPages('Roth_pert.pdf')\n",
    "pdf.savefig(fig)\n",
    "pdf.close()\n",
    "plt.show()"
   ]
  },
  {
   "cell_type": "code",
   "execution_count": null,
   "metadata": {
    "collapsed": true
   },
   "outputs": [],
   "source": []
  }
 ],
 "metadata": {
  "kernelspec": {
   "display_name": "Python 3",
   "language": "python",
   "name": "python3"
  },
  "language_info": {
   "codemirror_mode": {
    "name": "ipython",
    "version": 3
   },
   "file_extension": ".py",
   "mimetype": "text/x-python",
   "name": "python",
   "nbconvert_exporter": "python",
   "pygments_lexer": "ipython3",
   "version": "3.6.2"
  },
  "toc": {
   "base_numbering": 1,
   "nav_menu": {},
   "number_sections": true,
   "sideBar": true,
   "skip_h1_title": false,
   "title_cell": "Table of Contents",
   "title_sidebar": "Contents",
   "toc_cell": false,
   "toc_position": {},
   "toc_section_display": true,
   "toc_window_display": false
  },
  "varInspector": {
   "cols": {
    "lenName": 16,
    "lenType": 16,
    "lenVar": 40
   },
   "kernels_config": {
    "python": {
     "delete_cmd_postfix": "",
     "delete_cmd_prefix": "del ",
     "library": "var_list.py",
     "varRefreshCmd": "print(var_dic_list())"
    },
    "r": {
     "delete_cmd_postfix": ") ",
     "delete_cmd_prefix": "rm(",
     "library": "var_list.r",
     "varRefreshCmd": "cat(var_dic_list()) "
    }
   },
   "types_to_exclude": [
    "module",
    "function",
    "builtin_function_or_method",
    "instance",
    "_Feature"
   ],
   "window_display": false
  }
 },
 "nbformat": 4,
 "nbformat_minor": 2
}
